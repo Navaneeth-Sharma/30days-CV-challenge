{
  "nbformat": 4,
  "nbformat_minor": 0,
  "metadata": {
    "colab": {
      "name": "03_pretrained_models.ipynb",
      "provenance": [],
      "collapsed_sections": []
    },
    "kernelspec": {
      "name": "python3",
      "display_name": "Python 3"
    },
    "language_info": {
      "name": "python"
    }
  },
  "cells": [
    {
      "cell_type": "markdown",
      "source": [
        "# Transfer Learning\n",
        "\n",
        "There are various models available which can be used for transfer learning\n",
        "- VGG16\n",
        "- VGG19\n",
        "- ResNet varients etc\n",
        "\n",
        "### Resnet speciality\n",
        "Resnet has a special network or connection called skip connection. Which basically adds the previous(before skip connection) weights to current(after skip connection) weight ... \n",
        "\n",
        "![](https://external-content.duckduckgo.com/iu/?u=https%3A%2F%2Ftse1.mm.bing.net%2Fth%3Fid%3DOIP.2YRpCsirP4qRHrJG8WJXtQAAAA%26pid%3DApi&f=1)\n",
        "\n",
        "we can implement this as"
      ],
      "metadata": {
        "id": "TlOLOKL6FEBx"
      }
    },
    {
      "cell_type": "code",
      "execution_count": 3,
      "metadata": {
        "id": "2DHq-qlFE0z9"
      },
      "outputs": [],
      "source": [
        "import torch.nn as nn\n",
        "\n",
        "class ResNetBlock(nn.Module):\n",
        "  def __init__(self, n_inp, n_op, kernel_size, stride=1):\n",
        "    super(ResNetBlock, self).__init__()\n",
        "    padding = kernel_size - 2\n",
        "    self.conv = nn.Sequential(\n",
        "        nn.Conv2d(n_inp, n_op, kernel_size, stride,\n",
        "                  padding=padding),\n",
        "                  nn.BatchNorm2d(),\n",
        "                  nn.ReLU()\n",
        "                  )\n",
        "  \n",
        "    def forward(self, x):\n",
        "      x = self.conv(x) + x\n",
        "      return x\n",
        "\n"
      ]
    },
    {
      "cell_type": "code",
      "source": [
        "import torch\n",
        "from torchvision import models\n",
        "\n",
        "device = 'cpu'\n",
        "\n",
        "def get_model():\n",
        "  model = models.resnet18(pretrained=True)\n",
        "  for param in model.parameters():\n",
        "    param.requires_grad = False # freezing the layers\n",
        "\n",
        "    # changing the required segment \n",
        "    model.avgpool = nn.AdaptiveAvgPool2d(output_size=(1,1)) \n",
        "    model.fc = nn.Sequential(nn.Flatten(),\n",
        "    nn.Linear(512, 128),\n",
        "    nn.ReLU(),\n",
        "    nn.Dropout(0.2),\n",
        "    nn.Linear(128, 1),\n",
        "    nn.Sigmoid())\n",
        "\n",
        "    # Loss and optimizer\n",
        "    loss_fn = nn.BCELoss()\n",
        "    optimizer = torch.optim.Adam(model.parameters(),lr= 1e-3)\n",
        "  return model.to(device), loss_fn, optimizer"
      ],
      "metadata": {
        "id": "Z7KbbhF3G6oJ"
      },
      "execution_count": 5,
      "outputs": []
    },
    {
      "cell_type": "code",
      "source": [
        ""
      ],
      "metadata": {
        "id": "PEBNfiJdIB5f"
      },
      "execution_count": null,
      "outputs": []
    }
  ]
}