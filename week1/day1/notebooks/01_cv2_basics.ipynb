{
 "cells": [
  {
   "cell_type": "markdown",
   "id": "4c8ec812-fc86-4ade-89de-0def368eb91b",
   "metadata": {},
   "source": [
    "# Day 1\n",
    "\n",
    "## Opencv Basics"
   ]
  },
  {
   "cell_type": "markdown",
   "id": "636e8d72-575a-4a5b-ac5e-7ef687a2268e",
   "metadata": {},
   "source": [
    "### Importing Libraries"
   ]
  },
  {
   "cell_type": "code",
   "execution_count": 14,
   "id": "42f3dbdb-fd39-4b24-951a-91b4cf8eddde",
   "metadata": {},
   "outputs": [],
   "source": [
    "import cv2\n",
    "import numpy as np"
   ]
  },
  {
   "cell_type": "markdown",
   "id": "082e7837-43e8-4813-9b0e-64e0fb5cdc4c",
   "metadata": {},
   "source": [
    "### Imread function\n",
    "\n",
    "- cv2.imread(path, flag); # Here path is image path and flag is the kind of image need to parsed\n",
    "- there are majorly 3 flags\n",
    "  - cv2.IMREAD_COLOR (Image -> BGR)\n",
    "  - cv2.IMREAD_GRAYSCALE (Image -> grayscale)\n",
    "  - cv2.IMREAD_UNCHANGED (Image -> Image)\n"
   ]
  },
  {
   "cell_type": "code",
   "execution_count": 11,
   "id": "d28c3c60-a31e-4847-a23c-88ab7dc5fa30",
   "metadata": {},
   "outputs": [],
   "source": [
    "%matplotlib inline\n",
    "\n",
    "img = cv2.imread('../images/dog.png', 1) #1 denotes read as color image\n",
    "\n",
    "cv2.imshow('image', img) #to display args-> (title, image)\n",
    "cv2.waitKey() # to wait until the display is not being closed\n",
    "\n",
    "# #It will run continuously until the key press. \n",
    "cv2.destroyAllWindows()"
   ]
  },
  {
   "cell_type": "markdown",
   "id": "f894be60-eded-4c70-97a5-6bac6bc07df8",
   "metadata": {},
   "source": [
    "### Imwrite in opencv\n",
    "\n",
    "- cv2.imwrite(filename, image)  \n",
    "- Parameters:\n",
    "    - filename: A string representing the file name. The filename must include image format.\n",
    "    - image: It is the image that is to be saved."
   ]
  },
  {
   "cell_type": "code",
   "execution_count": 12,
   "id": "ea2a7030-dc8c-4fbb-ad59-bf41f72c1844",
   "metadata": {},
   "outputs": [
    {
     "name": "stdout",
     "output_type": "stream",
     "text": [
      "Saved without any error? True\n"
     ]
    }
   ],
   "source": [
    "status = cv2.imwrite(r'../images/dog_copy.png', img)\n",
    "\n",
    "print(\"Saved without any error?\", status)"
   ]
  },
  {
   "cell_type": "markdown",
   "id": "9cb6e2b6-9246-4213-b265-54ebf7127fe5",
   "metadata": {},
   "source": [
    "### Basic Operartion on Images\n",
    "\n",
    "- Access pixel values and modify them\n",
    "- Access image properties\n",
    "- Split and merge image channels"
   ]
  },
  {
   "cell_type": "markdown",
   "id": "62f0db64-a33e-4608-8359-bb2606af8af9",
   "metadata": {},
   "source": [
    "#### Access pixel and modify"
   ]
  },
  {
   "cell_type": "code",
   "execution_count": 30,
   "id": "b72d3378-b290-418f-9716-f1da79ccff01",
   "metadata": {},
   "outputs": [
    {
     "name": "stdout",
     "output_type": "stream",
     "text": [
      "old pixel [102 175 143]\n"
     ]
    }
   ],
   "source": [
    "img = cv2.imread('../images/dog.png', 1)\n",
    "\n",
    "pixel = img[100, 100]\n",
    "print(\"old pixel\", pixel)\n",
    "\n",
    "new_pixel = np.array([0,0,0]) #this will turn a part of image to blaok\n",
    "img[100:200, 100:200] = new_pixel\n",
    "\n",
    "cv2.imshow('image', img) \n",
    "cv2.waitKey() \n",
    "cv2.destroyAllWindows()"
   ]
  },
  {
   "cell_type": "markdown",
   "id": "60de4b4a-45ce-440b-8d5c-c6ea413ab8a7",
   "metadata": {},
   "source": [
    "#### Access to image properties"
   ]
  },
  {
   "cell_type": "code",
   "execution_count": 33,
   "id": "bc42de18-113d-4b48-b9fb-5535a546efd4",
   "metadata": {},
   "outputs": [
    {
     "name": "stdout",
     "output_type": "stream",
     "text": [
      "blue 150\n",
      "red 172\n"
     ]
    }
   ],
   "source": [
    "# blue pixels\n",
    "blue = img[500,500,1]\n",
    "print(\"blue\" , blue)\n",
    "\n",
    "# blue pixels\n",
    "red = img[500,500,2]\n",
    "print(\"red\" , red)"
   ]
  },
  {
   "cell_type": "markdown",
   "id": "61cad3a1-8a0d-46b9-bb15-06ae82457aec",
   "metadata": {},
   "source": [
    "#### Splitting and Merging Image Channels"
   ]
  },
  {
   "cell_type": "code",
   "execution_count": 40,
   "id": "f1bdc884-fe43-4a36-bec6-5ba81f4a8756",
   "metadata": {},
   "outputs": [],
   "source": [
    "b1,g1,r1 = cv2.split(img) #split to b,g,r\n",
    "img = cv2.merge((b1,g1,r1)) #merge b,g,r to image\n",
    "\n",
    "# b,g,r above and below will be same\n",
    "b2 = img[:,:,0]\n",
    "g2 = img[:,:,1]\n",
    "r2 = img[:,:,2]\n",
    "\n",
    "assert np.all(b1==b2)\n",
    "assert np.all(g1==g2)\n",
    "assert np.all(r1==r2)"
   ]
  }
 ],
 "metadata": {
  "kernelspec": {
   "display_name": "Python 3",
   "language": "python",
   "name": "python3"
  },
  "language_info": {
   "codemirror_mode": {
    "name": "ipython",
    "version": 3
   },
   "file_extension": ".py",
   "mimetype": "text/x-python",
   "name": "python",
   "nbconvert_exporter": "python",
   "pygments_lexer": "ipython3",
   "version": "3.6.9"
  }
 },
 "nbformat": 4,
 "nbformat_minor": 5
}
